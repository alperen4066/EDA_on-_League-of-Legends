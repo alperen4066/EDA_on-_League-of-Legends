{
  "nbformat": 4,
  "nbformat_minor": 0,
  "metadata": {
    "colab": {
      "name": "EDA_ on_ LOL.ipynb",
      "provenance": [],
      "collapsed_sections": []
    },
    "kernelspec": {
      "name": "python3",
      "display_name": "Python 3"
    },
    "language_info": {
      "name": "python"
    }
  },
  "cells": [
    {
      "cell_type": "code",
      "source": [
        "import pandas as pd\n",
        "import numpy as np\n",
        "import seaborn as sns\n",
        "import matplotlib.pyplot as plt"
      ],
      "metadata": {
        "id": "QSMiBjtAvkec"
      },
      "execution_count": 4,
      "outputs": []
    },
    {
      "cell_type": "markdown",
      "source": [
        "#Exploratory Data Analysis"
      ],
      "metadata": {
        "id": "SmFD35qYIT5C"
      }
    },
    {
      "cell_type": "code",
      "source": [
        "df = pd.read_csv(\"/content/high_diamond_ranked_10min.csv\")"
      ],
      "metadata": {
        "id": "R0OtvtlSwisV"
      },
      "execution_count": 5,
      "outputs": []
    },
    {
      "cell_type": "code",
      "source": [
        "df.head(5)"
      ],
      "metadata": {
        "colab": {
          "base_uri": "https://localhost:8080/",
          "height": 270
        },
        "id": "Cq3j_wTBw1Eb",
        "outputId": "3471b9ac-88c6-4265-8d96-810681e530fe"
      },
      "execution_count": 6,
      "outputs": [
        {
          "output_type": "execute_result",
          "data": {
            "text/html": [
              "\n",
              "  <div id=\"df-d81455b0-21e9-4509-bf19-c48bc4238101\">\n",
              "    <div class=\"colab-df-container\">\n",
              "      <div>\n",
              "<style scoped>\n",
              "    .dataframe tbody tr th:only-of-type {\n",
              "        vertical-align: middle;\n",
              "    }\n",
              "\n",
              "    .dataframe tbody tr th {\n",
              "        vertical-align: top;\n",
              "    }\n",
              "\n",
              "    .dataframe thead th {\n",
              "        text-align: right;\n",
              "    }\n",
              "</style>\n",
              "<table border=\"1\" class=\"dataframe\">\n",
              "  <thead>\n",
              "    <tr style=\"text-align: right;\">\n",
              "      <th></th>\n",
              "      <th>gameId</th>\n",
              "      <th>blueWins</th>\n",
              "      <th>blueWardsPlaced</th>\n",
              "      <th>blueWardsDestroyed</th>\n",
              "      <th>blueFirstBlood</th>\n",
              "      <th>blueKills</th>\n",
              "      <th>blueDeaths</th>\n",
              "      <th>blueAssists</th>\n",
              "      <th>blueEliteMonsters</th>\n",
              "      <th>blueDragons</th>\n",
              "      <th>blueHeralds</th>\n",
              "      <th>blueTowersDestroyed</th>\n",
              "      <th>blueTotalGold</th>\n",
              "      <th>blueAvgLevel</th>\n",
              "      <th>blueTotalExperience</th>\n",
              "      <th>blueTotalMinionsKilled</th>\n",
              "      <th>blueTotalJungleMinionsKilled</th>\n",
              "      <th>blueGoldDiff</th>\n",
              "      <th>blueExperienceDiff</th>\n",
              "      <th>blueCSPerMin</th>\n",
              "      <th>blueGoldPerMin</th>\n",
              "      <th>redWardsPlaced</th>\n",
              "      <th>redWardsDestroyed</th>\n",
              "      <th>redFirstBlood</th>\n",
              "      <th>redKills</th>\n",
              "      <th>redDeaths</th>\n",
              "      <th>redAssists</th>\n",
              "      <th>redEliteMonsters</th>\n",
              "      <th>redDragons</th>\n",
              "      <th>redHeralds</th>\n",
              "      <th>redTowersDestroyed</th>\n",
              "      <th>redTotalGold</th>\n",
              "      <th>redAvgLevel</th>\n",
              "      <th>redTotalExperience</th>\n",
              "      <th>redTotalMinionsKilled</th>\n",
              "      <th>redTotalJungleMinionsKilled</th>\n",
              "      <th>redGoldDiff</th>\n",
              "      <th>redExperienceDiff</th>\n",
              "      <th>redCSPerMin</th>\n",
              "      <th>redGoldPerMin</th>\n",
              "    </tr>\n",
              "  </thead>\n",
              "  <tbody>\n",
              "    <tr>\n",
              "      <th>0</th>\n",
              "      <td>4519157822</td>\n",
              "      <td>0</td>\n",
              "      <td>28</td>\n",
              "      <td>2</td>\n",
              "      <td>1</td>\n",
              "      <td>9</td>\n",
              "      <td>6</td>\n",
              "      <td>11</td>\n",
              "      <td>0</td>\n",
              "      <td>0</td>\n",
              "      <td>0</td>\n",
              "      <td>0</td>\n",
              "      <td>17210</td>\n",
              "      <td>6.6</td>\n",
              "      <td>17039</td>\n",
              "      <td>195</td>\n",
              "      <td>36</td>\n",
              "      <td>643</td>\n",
              "      <td>-8</td>\n",
              "      <td>19.5</td>\n",
              "      <td>1721.0</td>\n",
              "      <td>15</td>\n",
              "      <td>6</td>\n",
              "      <td>0</td>\n",
              "      <td>6</td>\n",
              "      <td>9</td>\n",
              "      <td>8</td>\n",
              "      <td>0</td>\n",
              "      <td>0</td>\n",
              "      <td>0</td>\n",
              "      <td>0</td>\n",
              "      <td>16567</td>\n",
              "      <td>6.8</td>\n",
              "      <td>17047</td>\n",
              "      <td>197</td>\n",
              "      <td>55</td>\n",
              "      <td>-643</td>\n",
              "      <td>8</td>\n",
              "      <td>19.7</td>\n",
              "      <td>1656.7</td>\n",
              "    </tr>\n",
              "    <tr>\n",
              "      <th>1</th>\n",
              "      <td>4523371949</td>\n",
              "      <td>0</td>\n",
              "      <td>12</td>\n",
              "      <td>1</td>\n",
              "      <td>0</td>\n",
              "      <td>5</td>\n",
              "      <td>5</td>\n",
              "      <td>5</td>\n",
              "      <td>0</td>\n",
              "      <td>0</td>\n",
              "      <td>0</td>\n",
              "      <td>0</td>\n",
              "      <td>14712</td>\n",
              "      <td>6.6</td>\n",
              "      <td>16265</td>\n",
              "      <td>174</td>\n",
              "      <td>43</td>\n",
              "      <td>-2908</td>\n",
              "      <td>-1173</td>\n",
              "      <td>17.4</td>\n",
              "      <td>1471.2</td>\n",
              "      <td>12</td>\n",
              "      <td>1</td>\n",
              "      <td>1</td>\n",
              "      <td>5</td>\n",
              "      <td>5</td>\n",
              "      <td>2</td>\n",
              "      <td>2</td>\n",
              "      <td>1</td>\n",
              "      <td>1</td>\n",
              "      <td>1</td>\n",
              "      <td>17620</td>\n",
              "      <td>6.8</td>\n",
              "      <td>17438</td>\n",
              "      <td>240</td>\n",
              "      <td>52</td>\n",
              "      <td>2908</td>\n",
              "      <td>1173</td>\n",
              "      <td>24.0</td>\n",
              "      <td>1762.0</td>\n",
              "    </tr>\n",
              "    <tr>\n",
              "      <th>2</th>\n",
              "      <td>4521474530</td>\n",
              "      <td>0</td>\n",
              "      <td>15</td>\n",
              "      <td>0</td>\n",
              "      <td>0</td>\n",
              "      <td>7</td>\n",
              "      <td>11</td>\n",
              "      <td>4</td>\n",
              "      <td>1</td>\n",
              "      <td>1</td>\n",
              "      <td>0</td>\n",
              "      <td>0</td>\n",
              "      <td>16113</td>\n",
              "      <td>6.4</td>\n",
              "      <td>16221</td>\n",
              "      <td>186</td>\n",
              "      <td>46</td>\n",
              "      <td>-1172</td>\n",
              "      <td>-1033</td>\n",
              "      <td>18.6</td>\n",
              "      <td>1611.3</td>\n",
              "      <td>15</td>\n",
              "      <td>3</td>\n",
              "      <td>1</td>\n",
              "      <td>11</td>\n",
              "      <td>7</td>\n",
              "      <td>14</td>\n",
              "      <td>0</td>\n",
              "      <td>0</td>\n",
              "      <td>0</td>\n",
              "      <td>0</td>\n",
              "      <td>17285</td>\n",
              "      <td>6.8</td>\n",
              "      <td>17254</td>\n",
              "      <td>203</td>\n",
              "      <td>28</td>\n",
              "      <td>1172</td>\n",
              "      <td>1033</td>\n",
              "      <td>20.3</td>\n",
              "      <td>1728.5</td>\n",
              "    </tr>\n",
              "    <tr>\n",
              "      <th>3</th>\n",
              "      <td>4524384067</td>\n",
              "      <td>0</td>\n",
              "      <td>43</td>\n",
              "      <td>1</td>\n",
              "      <td>0</td>\n",
              "      <td>4</td>\n",
              "      <td>5</td>\n",
              "      <td>5</td>\n",
              "      <td>1</td>\n",
              "      <td>0</td>\n",
              "      <td>1</td>\n",
              "      <td>0</td>\n",
              "      <td>15157</td>\n",
              "      <td>7.0</td>\n",
              "      <td>17954</td>\n",
              "      <td>201</td>\n",
              "      <td>55</td>\n",
              "      <td>-1321</td>\n",
              "      <td>-7</td>\n",
              "      <td>20.1</td>\n",
              "      <td>1515.7</td>\n",
              "      <td>15</td>\n",
              "      <td>2</td>\n",
              "      <td>1</td>\n",
              "      <td>5</td>\n",
              "      <td>4</td>\n",
              "      <td>10</td>\n",
              "      <td>0</td>\n",
              "      <td>0</td>\n",
              "      <td>0</td>\n",
              "      <td>0</td>\n",
              "      <td>16478</td>\n",
              "      <td>7.0</td>\n",
              "      <td>17961</td>\n",
              "      <td>235</td>\n",
              "      <td>47</td>\n",
              "      <td>1321</td>\n",
              "      <td>7</td>\n",
              "      <td>23.5</td>\n",
              "      <td>1647.8</td>\n",
              "    </tr>\n",
              "    <tr>\n",
              "      <th>4</th>\n",
              "      <td>4436033771</td>\n",
              "      <td>0</td>\n",
              "      <td>75</td>\n",
              "      <td>4</td>\n",
              "      <td>0</td>\n",
              "      <td>6</td>\n",
              "      <td>6</td>\n",
              "      <td>6</td>\n",
              "      <td>0</td>\n",
              "      <td>0</td>\n",
              "      <td>0</td>\n",
              "      <td>0</td>\n",
              "      <td>16400</td>\n",
              "      <td>7.0</td>\n",
              "      <td>18543</td>\n",
              "      <td>210</td>\n",
              "      <td>57</td>\n",
              "      <td>-1004</td>\n",
              "      <td>230</td>\n",
              "      <td>21.0</td>\n",
              "      <td>1640.0</td>\n",
              "      <td>17</td>\n",
              "      <td>2</td>\n",
              "      <td>1</td>\n",
              "      <td>6</td>\n",
              "      <td>6</td>\n",
              "      <td>7</td>\n",
              "      <td>1</td>\n",
              "      <td>1</td>\n",
              "      <td>0</td>\n",
              "      <td>0</td>\n",
              "      <td>17404</td>\n",
              "      <td>7.0</td>\n",
              "      <td>18313</td>\n",
              "      <td>225</td>\n",
              "      <td>67</td>\n",
              "      <td>1004</td>\n",
              "      <td>-230</td>\n",
              "      <td>22.5</td>\n",
              "      <td>1740.4</td>\n",
              "    </tr>\n",
              "  </tbody>\n",
              "</table>\n",
              "</div>\n",
              "      <button class=\"colab-df-convert\" onclick=\"convertToInteractive('df-d81455b0-21e9-4509-bf19-c48bc4238101')\"\n",
              "              title=\"Convert this dataframe to an interactive table.\"\n",
              "              style=\"display:none;\">\n",
              "        \n",
              "  <svg xmlns=\"http://www.w3.org/2000/svg\" height=\"24px\"viewBox=\"0 0 24 24\"\n",
              "       width=\"24px\">\n",
              "    <path d=\"M0 0h24v24H0V0z\" fill=\"none\"/>\n",
              "    <path d=\"M18.56 5.44l.94 2.06.94-2.06 2.06-.94-2.06-.94-.94-2.06-.94 2.06-2.06.94zm-11 1L8.5 8.5l.94-2.06 2.06-.94-2.06-.94L8.5 2.5l-.94 2.06-2.06.94zm10 10l.94 2.06.94-2.06 2.06-.94-2.06-.94-.94-2.06-.94 2.06-2.06.94z\"/><path d=\"M17.41 7.96l-1.37-1.37c-.4-.4-.92-.59-1.43-.59-.52 0-1.04.2-1.43.59L10.3 9.45l-7.72 7.72c-.78.78-.78 2.05 0 2.83L4 21.41c.39.39.9.59 1.41.59.51 0 1.02-.2 1.41-.59l7.78-7.78 2.81-2.81c.8-.78.8-2.07 0-2.86zM5.41 20L4 18.59l7.72-7.72 1.47 1.35L5.41 20z\"/>\n",
              "  </svg>\n",
              "      </button>\n",
              "      \n",
              "  <style>\n",
              "    .colab-df-container {\n",
              "      display:flex;\n",
              "      flex-wrap:wrap;\n",
              "      gap: 12px;\n",
              "    }\n",
              "\n",
              "    .colab-df-convert {\n",
              "      background-color: #E8F0FE;\n",
              "      border: none;\n",
              "      border-radius: 50%;\n",
              "      cursor: pointer;\n",
              "      display: none;\n",
              "      fill: #1967D2;\n",
              "      height: 32px;\n",
              "      padding: 0 0 0 0;\n",
              "      width: 32px;\n",
              "    }\n",
              "\n",
              "    .colab-df-convert:hover {\n",
              "      background-color: #E2EBFA;\n",
              "      box-shadow: 0px 1px 2px rgba(60, 64, 67, 0.3), 0px 1px 3px 1px rgba(60, 64, 67, 0.15);\n",
              "      fill: #174EA6;\n",
              "    }\n",
              "\n",
              "    [theme=dark] .colab-df-convert {\n",
              "      background-color: #3B4455;\n",
              "      fill: #D2E3FC;\n",
              "    }\n",
              "\n",
              "    [theme=dark] .colab-df-convert:hover {\n",
              "      background-color: #434B5C;\n",
              "      box-shadow: 0px 1px 3px 1px rgba(0, 0, 0, 0.15);\n",
              "      filter: drop-shadow(0px 1px 2px rgba(0, 0, 0, 0.3));\n",
              "      fill: #FFFFFF;\n",
              "    }\n",
              "  </style>\n",
              "\n",
              "      <script>\n",
              "        const buttonEl =\n",
              "          document.querySelector('#df-d81455b0-21e9-4509-bf19-c48bc4238101 button.colab-df-convert');\n",
              "        buttonEl.style.display =\n",
              "          google.colab.kernel.accessAllowed ? 'block' : 'none';\n",
              "\n",
              "        async function convertToInteractive(key) {\n",
              "          const element = document.querySelector('#df-d81455b0-21e9-4509-bf19-c48bc4238101');\n",
              "          const dataTable =\n",
              "            await google.colab.kernel.invokeFunction('convertToInteractive',\n",
              "                                                     [key], {});\n",
              "          if (!dataTable) return;\n",
              "\n",
              "          const docLinkHtml = 'Like what you see? Visit the ' +\n",
              "            '<a target=\"_blank\" href=https://colab.research.google.com/notebooks/data_table.ipynb>data table notebook</a>'\n",
              "            + ' to learn more about interactive tables.';\n",
              "          element.innerHTML = '';\n",
              "          dataTable['output_type'] = 'display_data';\n",
              "          await google.colab.output.renderOutput(dataTable, element);\n",
              "          const docLink = document.createElement('div');\n",
              "          docLink.innerHTML = docLinkHtml;\n",
              "          element.appendChild(docLink);\n",
              "        }\n",
              "      </script>\n",
              "    </div>\n",
              "  </div>\n",
              "  "
            ],
            "text/plain": [
              "       gameId  blueWins  ...  redCSPerMin  redGoldPerMin\n",
              "0  4519157822         0  ...         19.7         1656.7\n",
              "1  4523371949         0  ...         24.0         1762.0\n",
              "2  4521474530         0  ...         20.3         1728.5\n",
              "3  4524384067         0  ...         23.5         1647.8\n",
              "4  4436033771         0  ...         22.5         1740.4\n",
              "\n",
              "[5 rows x 40 columns]"
            ]
          },
          "metadata": {},
          "execution_count": 6
        }
      ]
    },
    {
      "cell_type": "code",
      "source": [
        "df.shape"
      ],
      "metadata": {
        "colab": {
          "base_uri": "https://localhost:8080/"
        },
        "id": "73NGBlEyw3M8",
        "outputId": "55ed887f-d506-4233-f819-07dfb27464d1"
      },
      "execution_count": 7,
      "outputs": [
        {
          "output_type": "execute_result",
          "data": {
            "text/plain": [
              "(9879, 40)"
            ]
          },
          "metadata": {},
          "execution_count": 7
        }
      ]
    },
    {
      "cell_type": "code",
      "source": [
        "df.isnull().sum()"
      ],
      "metadata": {
        "colab": {
          "base_uri": "https://localhost:8080/"
        },
        "id": "xDatuqH9w_J-",
        "outputId": "b16c7bcf-9cf8-45fa-8007-534f9e29b779"
      },
      "execution_count": 9,
      "outputs": [
        {
          "output_type": "execute_result",
          "data": {
            "text/plain": [
              "gameId                          0\n",
              "blueWins                        0\n",
              "blueWardsPlaced                 0\n",
              "blueWardsDestroyed              0\n",
              "blueFirstBlood                  0\n",
              "blueKills                       0\n",
              "blueDeaths                      0\n",
              "blueAssists                     0\n",
              "blueEliteMonsters               0\n",
              "blueDragons                     0\n",
              "blueHeralds                     0\n",
              "blueTowersDestroyed             0\n",
              "blueTotalGold                   0\n",
              "blueAvgLevel                    0\n",
              "blueTotalExperience             0\n",
              "blueTotalMinionsKilled          0\n",
              "blueTotalJungleMinionsKilled    0\n",
              "blueGoldDiff                    0\n",
              "blueExperienceDiff              0\n",
              "blueCSPerMin                    0\n",
              "blueGoldPerMin                  0\n",
              "redWardsPlaced                  0\n",
              "redWardsDestroyed               0\n",
              "redFirstBlood                   0\n",
              "redKills                        0\n",
              "redDeaths                       0\n",
              "redAssists                      0\n",
              "redEliteMonsters                0\n",
              "redDragons                      0\n",
              "redHeralds                      0\n",
              "redTowersDestroyed              0\n",
              "redTotalGold                    0\n",
              "redAvgLevel                     0\n",
              "redTotalExperience              0\n",
              "redTotalMinionsKilled           0\n",
              "redTotalJungleMinionsKilled     0\n",
              "redGoldDiff                     0\n",
              "redExperienceDiff               0\n",
              "redCSPerMin                     0\n",
              "redGoldPerMin                   0\n",
              "dtype: int64"
            ]
          },
          "metadata": {},
          "execution_count": 9
        }
      ]
    },
    {
      "cell_type": "code",
      "source": [
        "df.info()"
      ],
      "metadata": {
        "colab": {
          "base_uri": "https://localhost:8080/"
        },
        "id": "WR285AY3xJ8E",
        "outputId": "1f1211ae-4aa8-4b7f-ad80-339068a32cd0"
      },
      "execution_count": 10,
      "outputs": [
        {
          "output_type": "stream",
          "name": "stdout",
          "text": [
            "<class 'pandas.core.frame.DataFrame'>\n",
            "RangeIndex: 9879 entries, 0 to 9878\n",
            "Data columns (total 40 columns):\n",
            " #   Column                        Non-Null Count  Dtype  \n",
            "---  ------                        --------------  -----  \n",
            " 0   gameId                        9879 non-null   int64  \n",
            " 1   blueWins                      9879 non-null   int64  \n",
            " 2   blueWardsPlaced               9879 non-null   int64  \n",
            " 3   blueWardsDestroyed            9879 non-null   int64  \n",
            " 4   blueFirstBlood                9879 non-null   int64  \n",
            " 5   blueKills                     9879 non-null   int64  \n",
            " 6   blueDeaths                    9879 non-null   int64  \n",
            " 7   blueAssists                   9879 non-null   int64  \n",
            " 8   blueEliteMonsters             9879 non-null   int64  \n",
            " 9   blueDragons                   9879 non-null   int64  \n",
            " 10  blueHeralds                   9879 non-null   int64  \n",
            " 11  blueTowersDestroyed           9879 non-null   int64  \n",
            " 12  blueTotalGold                 9879 non-null   int64  \n",
            " 13  blueAvgLevel                  9879 non-null   float64\n",
            " 14  blueTotalExperience           9879 non-null   int64  \n",
            " 15  blueTotalMinionsKilled        9879 non-null   int64  \n",
            " 16  blueTotalJungleMinionsKilled  9879 non-null   int64  \n",
            " 17  blueGoldDiff                  9879 non-null   int64  \n",
            " 18  blueExperienceDiff            9879 non-null   int64  \n",
            " 19  blueCSPerMin                  9879 non-null   float64\n",
            " 20  blueGoldPerMin                9879 non-null   float64\n",
            " 21  redWardsPlaced                9879 non-null   int64  \n",
            " 22  redWardsDestroyed             9879 non-null   int64  \n",
            " 23  redFirstBlood                 9879 non-null   int64  \n",
            " 24  redKills                      9879 non-null   int64  \n",
            " 25  redDeaths                     9879 non-null   int64  \n",
            " 26  redAssists                    9879 non-null   int64  \n",
            " 27  redEliteMonsters              9879 non-null   int64  \n",
            " 28  redDragons                    9879 non-null   int64  \n",
            " 29  redHeralds                    9879 non-null   int64  \n",
            " 30  redTowersDestroyed            9879 non-null   int64  \n",
            " 31  redTotalGold                  9879 non-null   int64  \n",
            " 32  redAvgLevel                   9879 non-null   float64\n",
            " 33  redTotalExperience            9879 non-null   int64  \n",
            " 34  redTotalMinionsKilled         9879 non-null   int64  \n",
            " 35  redTotalJungleMinionsKilled   9879 non-null   int64  \n",
            " 36  redGoldDiff                   9879 non-null   int64  \n",
            " 37  redExperienceDiff             9879 non-null   int64  \n",
            " 38  redCSPerMin                   9879 non-null   float64\n",
            " 39  redGoldPerMin                 9879 non-null   float64\n",
            "dtypes: float64(6), int64(34)\n",
            "memory usage: 3.0 MB\n"
          ]
        }
      ]
    },
    {
      "cell_type": "code",
      "source": [
        "df[\"whoWins\"] = df.blueWins.map({0:\"RedWins\", 1:\"BlueWins\"})"
      ],
      "metadata": {
        "id": "r9nGPK41xQ0r"
      },
      "execution_count": 11,
      "outputs": []
    },
    {
      "cell_type": "code",
      "source": [
        "df.sample(3)"
      ],
      "metadata": {
        "colab": {
          "base_uri": "https://localhost:8080/",
          "height": 207
        },
        "id": "40frgkoaxuXd",
        "outputId": "218681d9-8d75-4569-9732-7f8147674278"
      },
      "execution_count": 14,
      "outputs": [
        {
          "output_type": "execute_result",
          "data": {
            "text/html": [
              "\n",
              "  <div id=\"df-358f0543-9c34-4b8e-8d7d-0e0bdde7dfb7\">\n",
              "    <div class=\"colab-df-container\">\n",
              "      <div>\n",
              "<style scoped>\n",
              "    .dataframe tbody tr th:only-of-type {\n",
              "        vertical-align: middle;\n",
              "    }\n",
              "\n",
              "    .dataframe tbody tr th {\n",
              "        vertical-align: top;\n",
              "    }\n",
              "\n",
              "    .dataframe thead th {\n",
              "        text-align: right;\n",
              "    }\n",
              "</style>\n",
              "<table border=\"1\" class=\"dataframe\">\n",
              "  <thead>\n",
              "    <tr style=\"text-align: right;\">\n",
              "      <th></th>\n",
              "      <th>gameId</th>\n",
              "      <th>blueWins</th>\n",
              "      <th>blueWardsPlaced</th>\n",
              "      <th>blueWardsDestroyed</th>\n",
              "      <th>blueFirstBlood</th>\n",
              "      <th>blueKills</th>\n",
              "      <th>blueDeaths</th>\n",
              "      <th>blueAssists</th>\n",
              "      <th>blueEliteMonsters</th>\n",
              "      <th>blueDragons</th>\n",
              "      <th>blueHeralds</th>\n",
              "      <th>blueTowersDestroyed</th>\n",
              "      <th>blueTotalGold</th>\n",
              "      <th>blueAvgLevel</th>\n",
              "      <th>blueTotalExperience</th>\n",
              "      <th>blueTotalMinionsKilled</th>\n",
              "      <th>blueTotalJungleMinionsKilled</th>\n",
              "      <th>blueGoldDiff</th>\n",
              "      <th>blueExperienceDiff</th>\n",
              "      <th>blueCSPerMin</th>\n",
              "      <th>blueGoldPerMin</th>\n",
              "      <th>redWardsPlaced</th>\n",
              "      <th>redWardsDestroyed</th>\n",
              "      <th>redFirstBlood</th>\n",
              "      <th>redKills</th>\n",
              "      <th>redDeaths</th>\n",
              "      <th>redAssists</th>\n",
              "      <th>redEliteMonsters</th>\n",
              "      <th>redDragons</th>\n",
              "      <th>redHeralds</th>\n",
              "      <th>redTowersDestroyed</th>\n",
              "      <th>redTotalGold</th>\n",
              "      <th>redAvgLevel</th>\n",
              "      <th>redTotalExperience</th>\n",
              "      <th>redTotalMinionsKilled</th>\n",
              "      <th>redTotalJungleMinionsKilled</th>\n",
              "      <th>redGoldDiff</th>\n",
              "      <th>redExperienceDiff</th>\n",
              "      <th>redCSPerMin</th>\n",
              "      <th>redGoldPerMin</th>\n",
              "      <th>whoWins</th>\n",
              "    </tr>\n",
              "  </thead>\n",
              "  <tbody>\n",
              "    <tr>\n",
              "      <th>410</th>\n",
              "      <td>4454069388</td>\n",
              "      <td>0</td>\n",
              "      <td>41</td>\n",
              "      <td>4</td>\n",
              "      <td>1</td>\n",
              "      <td>7</td>\n",
              "      <td>8</td>\n",
              "      <td>8</td>\n",
              "      <td>0</td>\n",
              "      <td>0</td>\n",
              "      <td>0</td>\n",
              "      <td>0</td>\n",
              "      <td>16604</td>\n",
              "      <td>6.6</td>\n",
              "      <td>17328</td>\n",
              "      <td>203</td>\n",
              "      <td>47</td>\n",
              "      <td>-416</td>\n",
              "      <td>-907</td>\n",
              "      <td>20.3</td>\n",
              "      <td>1660.4</td>\n",
              "      <td>17</td>\n",
              "      <td>6</td>\n",
              "      <td>0</td>\n",
              "      <td>8</td>\n",
              "      <td>7</td>\n",
              "      <td>11</td>\n",
              "      <td>1</td>\n",
              "      <td>1</td>\n",
              "      <td>0</td>\n",
              "      <td>0</td>\n",
              "      <td>17020</td>\n",
              "      <td>7.0</td>\n",
              "      <td>18235</td>\n",
              "      <td>201</td>\n",
              "      <td>55</td>\n",
              "      <td>416</td>\n",
              "      <td>907</td>\n",
              "      <td>20.1</td>\n",
              "      <td>1702.0</td>\n",
              "      <td>RedWins</td>\n",
              "    </tr>\n",
              "    <tr>\n",
              "      <th>4532</th>\n",
              "      <td>4505938604</td>\n",
              "      <td>0</td>\n",
              "      <td>16</td>\n",
              "      <td>1</td>\n",
              "      <td>0</td>\n",
              "      <td>8</td>\n",
              "      <td>9</td>\n",
              "      <td>6</td>\n",
              "      <td>0</td>\n",
              "      <td>0</td>\n",
              "      <td>0</td>\n",
              "      <td>0</td>\n",
              "      <td>16972</td>\n",
              "      <td>7.2</td>\n",
              "      <td>19143</td>\n",
              "      <td>198</td>\n",
              "      <td>64</td>\n",
              "      <td>-1832</td>\n",
              "      <td>-386</td>\n",
              "      <td>19.8</td>\n",
              "      <td>1697.2</td>\n",
              "      <td>37</td>\n",
              "      <td>1</td>\n",
              "      <td>1</td>\n",
              "      <td>9</td>\n",
              "      <td>8</td>\n",
              "      <td>10</td>\n",
              "      <td>1</td>\n",
              "      <td>1</td>\n",
              "      <td>0</td>\n",
              "      <td>0</td>\n",
              "      <td>18804</td>\n",
              "      <td>7.4</td>\n",
              "      <td>19529</td>\n",
              "      <td>230</td>\n",
              "      <td>60</td>\n",
              "      <td>1832</td>\n",
              "      <td>386</td>\n",
              "      <td>23.0</td>\n",
              "      <td>1880.4</td>\n",
              "      <td>RedWins</td>\n",
              "    </tr>\n",
              "    <tr>\n",
              "      <th>4780</th>\n",
              "      <td>4468006580</td>\n",
              "      <td>0</td>\n",
              "      <td>17</td>\n",
              "      <td>0</td>\n",
              "      <td>0</td>\n",
              "      <td>4</td>\n",
              "      <td>10</td>\n",
              "      <td>10</td>\n",
              "      <td>0</td>\n",
              "      <td>0</td>\n",
              "      <td>0</td>\n",
              "      <td>0</td>\n",
              "      <td>15064</td>\n",
              "      <td>6.2</td>\n",
              "      <td>14203</td>\n",
              "      <td>141</td>\n",
              "      <td>40</td>\n",
              "      <td>-5181</td>\n",
              "      <td>-5072</td>\n",
              "      <td>14.1</td>\n",
              "      <td>1506.4</td>\n",
              "      <td>17</td>\n",
              "      <td>2</td>\n",
              "      <td>1</td>\n",
              "      <td>10</td>\n",
              "      <td>4</td>\n",
              "      <td>9</td>\n",
              "      <td>2</td>\n",
              "      <td>1</td>\n",
              "      <td>1</td>\n",
              "      <td>1</td>\n",
              "      <td>20245</td>\n",
              "      <td>7.4</td>\n",
              "      <td>19275</td>\n",
              "      <td>240</td>\n",
              "      <td>60</td>\n",
              "      <td>5181</td>\n",
              "      <td>5072</td>\n",
              "      <td>24.0</td>\n",
              "      <td>2024.5</td>\n",
              "      <td>RedWins</td>\n",
              "    </tr>\n",
              "  </tbody>\n",
              "</table>\n",
              "</div>\n",
              "      <button class=\"colab-df-convert\" onclick=\"convertToInteractive('df-358f0543-9c34-4b8e-8d7d-0e0bdde7dfb7')\"\n",
              "              title=\"Convert this dataframe to an interactive table.\"\n",
              "              style=\"display:none;\">\n",
              "        \n",
              "  <svg xmlns=\"http://www.w3.org/2000/svg\" height=\"24px\"viewBox=\"0 0 24 24\"\n",
              "       width=\"24px\">\n",
              "    <path d=\"M0 0h24v24H0V0z\" fill=\"none\"/>\n",
              "    <path d=\"M18.56 5.44l.94 2.06.94-2.06 2.06-.94-2.06-.94-.94-2.06-.94 2.06-2.06.94zm-11 1L8.5 8.5l.94-2.06 2.06-.94-2.06-.94L8.5 2.5l-.94 2.06-2.06.94zm10 10l.94 2.06.94-2.06 2.06-.94-2.06-.94-.94-2.06-.94 2.06-2.06.94z\"/><path d=\"M17.41 7.96l-1.37-1.37c-.4-.4-.92-.59-1.43-.59-.52 0-1.04.2-1.43.59L10.3 9.45l-7.72 7.72c-.78.78-.78 2.05 0 2.83L4 21.41c.39.39.9.59 1.41.59.51 0 1.02-.2 1.41-.59l7.78-7.78 2.81-2.81c.8-.78.8-2.07 0-2.86zM5.41 20L4 18.59l7.72-7.72 1.47 1.35L5.41 20z\"/>\n",
              "  </svg>\n",
              "      </button>\n",
              "      \n",
              "  <style>\n",
              "    .colab-df-container {\n",
              "      display:flex;\n",
              "      flex-wrap:wrap;\n",
              "      gap: 12px;\n",
              "    }\n",
              "\n",
              "    .colab-df-convert {\n",
              "      background-color: #E8F0FE;\n",
              "      border: none;\n",
              "      border-radius: 50%;\n",
              "      cursor: pointer;\n",
              "      display: none;\n",
              "      fill: #1967D2;\n",
              "      height: 32px;\n",
              "      padding: 0 0 0 0;\n",
              "      width: 32px;\n",
              "    }\n",
              "\n",
              "    .colab-df-convert:hover {\n",
              "      background-color: #E2EBFA;\n",
              "      box-shadow: 0px 1px 2px rgba(60, 64, 67, 0.3), 0px 1px 3px 1px rgba(60, 64, 67, 0.15);\n",
              "      fill: #174EA6;\n",
              "    }\n",
              "\n",
              "    [theme=dark] .colab-df-convert {\n",
              "      background-color: #3B4455;\n",
              "      fill: #D2E3FC;\n",
              "    }\n",
              "\n",
              "    [theme=dark] .colab-df-convert:hover {\n",
              "      background-color: #434B5C;\n",
              "      box-shadow: 0px 1px 3px 1px rgba(0, 0, 0, 0.15);\n",
              "      filter: drop-shadow(0px 1px 2px rgba(0, 0, 0, 0.3));\n",
              "      fill: #FFFFFF;\n",
              "    }\n",
              "  </style>\n",
              "\n",
              "      <script>\n",
              "        const buttonEl =\n",
              "          document.querySelector('#df-358f0543-9c34-4b8e-8d7d-0e0bdde7dfb7 button.colab-df-convert');\n",
              "        buttonEl.style.display =\n",
              "          google.colab.kernel.accessAllowed ? 'block' : 'none';\n",
              "\n",
              "        async function convertToInteractive(key) {\n",
              "          const element = document.querySelector('#df-358f0543-9c34-4b8e-8d7d-0e0bdde7dfb7');\n",
              "          const dataTable =\n",
              "            await google.colab.kernel.invokeFunction('convertToInteractive',\n",
              "                                                     [key], {});\n",
              "          if (!dataTable) return;\n",
              "\n",
              "          const docLinkHtml = 'Like what you see? Visit the ' +\n",
              "            '<a target=\"_blank\" href=https://colab.research.google.com/notebooks/data_table.ipynb>data table notebook</a>'\n",
              "            + ' to learn more about interactive tables.';\n",
              "          element.innerHTML = '';\n",
              "          dataTable['output_type'] = 'display_data';\n",
              "          await google.colab.output.renderOutput(dataTable, element);\n",
              "          const docLink = document.createElement('div');\n",
              "          docLink.innerHTML = docLinkHtml;\n",
              "          element.appendChild(docLink);\n",
              "        }\n",
              "      </script>\n",
              "    </div>\n",
              "  </div>\n",
              "  "
            ],
            "text/plain": [
              "          gameId  blueWins  ...  redGoldPerMin  whoWins\n",
              "410   4454069388         0  ...         1702.0  RedWins\n",
              "4532  4505938604         0  ...         1880.4  RedWins\n",
              "4780  4468006580         0  ...         2024.5  RedWins\n",
              "\n",
              "[3 rows x 41 columns]"
            ]
          },
          "metadata": {},
          "execution_count": 14
        }
      ]
    },
    {
      "cell_type": "code",
      "source": [
        "columns = [\"redGoldPerMin\", \"blueGoldPerMin\", \"redCSPerMin\", \"blueCSPerMin\"]\n",
        "df = df.drop(columns,axis=1)"
      ],
      "metadata": {
        "id": "2hDxRFqjxwll"
      },
      "execution_count": 17,
      "outputs": []
    },
    {
      "cell_type": "code",
      "source": [
        "ax=sns.countplot(x=df.whoWins,data=df, palette=['#FF3500',\"#0059FF\"])\n",
        "for p in ax.patches:\n",
        "    ax.annotate(p.get_height(),(p.get_x() + 0.32, p.get_height() + 10))"
      ],
      "metadata": {
        "colab": {
          "base_uri": "https://localhost:8080/",
          "height": 279
        },
        "id": "EZMW2PUbyHhI",
        "outputId": "7066f770-020f-42b9-b8bf-08b720fed85b"
      },
      "execution_count": 25,
      "outputs": [
        {
          "output_type": "display_data",
          "data": {
            "image/png": "[encoded data removed]",
            "text/plain": [
              "<Figure size 432x288 with 1 Axes>"
            ]
          },
          "metadata": {
            "needs_background": "light"
          }
        }
      ]
    },
    {
      "cell_type": "code",
      "source": [
        "df.whoWins.value_counts()"
      ],
      "metadata": {
        "colab": {
          "base_uri": "https://localhost:8080/"
        },
        "id": "vdSFtkvwyHye",
        "outputId": "e3332a60-3ac4-4dab-fe64-11ed5e728c89"
      },
      "execution_count": 28,
      "outputs": [
        {
          "output_type": "execute_result",
          "data": {
            "text/plain": [
              "RedWins     4949\n",
              "BlueWins    4930\n",
              "Name: whoWins, dtype: int64"
            ]
          },
          "metadata": {},
          "execution_count": 28
        }
      ]
    },
    {
      "cell_type": "code",
      "source": [
        "print(f'Blue Team has %{round(len(df[df[\"blueWins\"]==1]) / len(df),2) * 100} win rate.')\n",
        "print(\"-\"*28)\n",
        "print(f'Red Team has %{round(len(df[df[\"blueWins\"]==0]) / len(df),2) * 100} win rate.')"
      ],
      "metadata": {
        "colab": {
          "base_uri": "https://localhost:8080/"
        },
        "id": "zHZ-opOQyIDB",
        "outputId": "2bfcebcd-9cb9-4fc2-8945-e74dc0f14a05"
      },
      "execution_count": 44,
      "outputs": [
        {
          "output_type": "stream",
          "name": "stdout",
          "text": [
            "Blue Team has %50.0 win rate.\n",
            "----------------------------\n",
            "Red Team has %50.0 win rate.\n"
          ]
        }
      ]
    },
    {
      "cell_type": "markdown",
      "source": [
        "#Win Rate When Has a Gold Advantage"
      ],
      "metadata": {
        "id": "6EG7HLtTIGcQ"
      }
    },
    {
      "cell_type": "code",
      "source": [
        "palette=['#FF3500',\"#0059FF\"]"
      ],
      "metadata": {
        "id": "tWEtN67M3qow"
      },
      "execution_count": 46,
      "outputs": []
    },
    {
      "cell_type": "code",
      "source": [
        "fig, ax = plt.subplots(ncols=2, figsize=(12,4), dpi=100)\n",
        "sns.barplot(x=df[df[\"blueGoldDiff\"]>0][\"blueWins\"].replace({1:\"Win\", 0:\"Lose\"}).value_counts().index, y=df[df[\"blueGoldDiff\"]>0][\"blueWins\"].replace({1:\"Win\", 0:\"Lose\"}).value_counts().values, ax=ax[0], palette=palette[::-1])\n",
        "sns.barplot(x=df[df[\"redGoldDiff\"]>0][\"blueWins\"].replace({0:\"Win\", 1:\"Lose\"}).value_counts().index, y=df[df[\"redGoldDiff\"]>0][\"blueWins\"].replace({0:\"Win\", 1:\"Lose\"}).value_counts().values, ax=ax[1], palette=palette)\n",
        "\n",
        "ax[0].set_title(\"Blue Win When Blue Has Gold Advantage\")\n",
        "ax[1].set_title(\"Red Win When Red Has Gold Advantage\")\n",
        "\n",
        "plt.tight_layout();\n",
        "\n",
        "print(f'When Blue Team has a gold advantage into the 10 minutes of the game, Blue Team has %{round(len(df[(df[\"blueGoldDiff\"]>0) & (df[\"blueWins\"]==1)]) / len(df[df[\"blueGoldDiff\"]>0]),2) * 100} win rate.')\n",
        "print(f'When Red Team has a gold advantage into the 10 minutes of the game, Red Team has %{round(len(df[(df[\"redGoldDiff\"]>0) & (df[\"blueWins\"]==0)]) / len(df[df[\"redGoldDiff\"]>0]),2) * 100} win rate.')"
      ],
      "metadata": {
        "colab": {
          "base_uri": "https://localhost:8080/",
          "height": 442
        },
        "id": "DeLfA4ld3Cyb",
        "outputId": "2a269747-d32f-410b-9cc3-88d24e7a3fa5"
      },
      "execution_count": 69,
      "outputs": [
        {
          "output_type": "stream",
          "name": "stdout",
          "text": [
            "When Blue Team has a gold advantage into the 10 minutes of the game, Blue Team has %72.0 win rate.\n",
            "When Red Team has a gold advantage into the 10 minutes of the game, Red Team has %72.0 win rate.\n"
          ]
        },
        {
          "output_type": "display_data",
          "data": {
            "image/png": "[encoded data removed]",
            "text/plain": [
              "<Figure size 1200x400 with 2 Axes>"
            ]
          },
          "metadata": {
            "needs_background": "light"
          }
        }
      ]
    },
    {
      "cell_type": "markdown",
      "source": [
        "#Impact of the First Blood"
      ],
      "metadata": {
        "id": "mgcQ8Q8m8qYI"
      }
    },
    {
      "cell_type": "code",
      "source": [
        "df[\"WhoFirstBlood\"]=df.blueFirstBlood.map({0:\"Red\", 1:\"Blue\"})"
      ],
      "metadata": {
        "id": "1om1n3IY3fBM"
      },
      "execution_count": 58,
      "outputs": []
    },
    {
      "cell_type": "code",
      "source": [
        "fig, ax = plt.subplots(figsize=(12,6)) \n",
        "ax=sns.countplot(x=df.WhoFirstBlood,data=df,hue=\"whoWins\",palette=palette)\n",
        "for p in ax.patches:\n",
        "    ax.annotate(p.get_height(),(p.get_x() + 0.18, p.get_height() + 10));\n",
        "\n",
        "print(f'When Blue Team got first blood, their win rate is %{round(len(df[(df[\"blueFirstBlood\"]==1) & df[\"blueWins\"]==1]) / len(df[df[\"blueFirstBlood\"]==1]) * 100,2)}')\n",
        "print(f'When Red Team got first blood, their win rate is %{round(len(df[(df[\"redFirstBlood\"]==1) & (df[\"blueWins\"]==0)]) / len(df[df[\"redFirstBlood\"]==1]) * 100,2)}')"
      ],
      "metadata": {
        "colab": {
          "base_uri": "https://localhost:8080/",
          "height": 423
        },
        "id": "CoqLUg6z3fH_",
        "outputId": "b0a0641b-bcf2-4f54-9e17-1fe0dc5fe836"
      },
      "execution_count": 67,
      "outputs": [
        {
          "output_type": "stream",
          "name": "stdout",
          "text": [
            "When Blue Team got first blood, their win rate is %59.9\n",
            "When Red Team got first blood, their win rate is %60.28\n"
          ]
        },
        {
          "output_type": "display_data",
          "data": {
            "image/png": "[encoded data removed]",
            "text/plain": [
              "<Figure size 864x432 with 1 Axes>"
            ]
          },
          "metadata": {
            "needs_background": "light"
          }
        }
      ]
    },
    {
      "cell_type": "markdown",
      "source": [
        "#Dragon"
      ],
      "metadata": {
        "id": "0nL1JKvBH2Vk"
      }
    },
    {
      "cell_type": "code",
      "source": [
        "fig, ax = plt.subplots(ncols=2, figsize=(12,4), dpi=100)\n",
        "sns.countplot(x=\"blueDragons\",hue=\"whoWins\",data=df,ax=ax[0],palette=palette)\n",
        "sns.countplot(x=\"redDragons\",hue=\"whoWins\",data=df,ax=ax[1],palette=palette)\n",
        "plt.suptitle(\"Dragon's Impact On The Game\")\n",
        "ax[0].set_title(\"Blue Team\")\n",
        "ax[1].set_title(\"Red Team\");\n",
        "\n",
        "print(f\"In {len(df)} games, {df.redDragons.value_counts()[1]} times Red Team got dragon. When Red Team got the dragon their win rate is %{round(len(df[(df['redDragons'] == 1) & (df['blueWins'] == 0)]) / df.blueDragons.value_counts()[1] * 100,2)}\")\n",
        "print(f\"In {len(df)} games, {df.blueDragons.value_counts()[1]} times Blue Team got dragon. When Blue Team got the dragon their win rate is %{round(len(df[(df['blueDragons'] == 1) & (df['blueWins'] == 1)]) / df.blueDragons.value_counts()[1] * 100,2)}\")\n",
        "print(f\"In {len(df)} games, {len(df[(df['blueDragons'] == 0) & (df['redDragons'] == 0)])} times neither team got dragon. In those game both team has %{round(len(df[(df['redDragons'] == 0) & (df['blueDragons'] == 0) & (df['blueWins'] == 1)]) / len(df[(df['blueDragons'] == 0) & (df['redDragons'] == 0)]) * 100,2)} win rate.\")\n"
      ],
      "metadata": {
        "colab": {
          "base_uri": "https://localhost:8080/",
          "height": 474
        },
        "id": "p3fuAhNj8y1o",
        "outputId": "b2a9bd1d-21b2-47dd-fc7d-d03d20037217"
      },
      "execution_count": 80,
      "outputs": [
        {
          "output_type": "stream",
          "name": "stdout",
          "text": [
            "In 9879 games, 4081 times Red Team got dragon. When Red Team got the dragon their win rate is %71.42\n",
            "In 9879 games, 3576 times Blue Team got dragon. When Blue Team got the dragon their win rate is %64.09\n",
            "In 9879 games, 2222 times neither team got dragon. In those game both team has %50.0 win rate.\n"
          ]
        },
        {
          "output_type": "display_data",
          "data": {
            "image/png": "[encoded data removed]",
            "text/plain": [
              "<Figure size 1200x400 with 2 Axes>"
            ]
          },
          "metadata": {
            "needs_background": "light"
          }
        }
      ]
    },
    {
      "cell_type": "markdown",
      "source": [
        "#Herald"
      ],
      "metadata": {
        "id": "rLtT6G-PHu6t"
      }
    },
    {
      "cell_type": "code",
      "source": [
        "fig, ax = plt.subplots(figsize=(12,6),ncols=2)\n",
        "sns.countplot(x=\"blueHeralds\",data=df,hue=\"whoWins\",ax=ax[0],palette=palette)\n",
        "sns.countplot(x=\"redHeralds\",data=df,hue=\"whoWins\",ax=ax[1],palette=palette)\n",
        "ax[0].set_title(\"Blue Team\")\n",
        "ax[1].set_title(\"Red Team\")\n",
        "plt.suptitle(\"Herald's Impact On The Game\");\n",
        "\n",
        "print(f\"Out of {len(df)} games, Blue Team got herald {len(df[(df['blueHeralds'] == 1)])} times. In those games Blue Team's win rate is {round(len(df[(df['blueHeralds'] == 1) & (df['blueWins'] == 1)]) / len(df[(df['blueHeralds'] == 1)]) * 100,2)}.\")\n",
        "print(f\"Out of {len(df)} games, Red Team got herald {len(df[(df['redHeralds'] == 1)])} times. In those games Red Team's win rate is {round(len(df[(df['redHeralds'] == 1) & (df['blueWins'] == 0)]) / len(df[(df['redHeralds'] == 1)]) * 100,2)}\")\n",
        "print(f\"Out of {len(df)} games, neither team got herald {len(df[(df['redHeralds'] == 0) & (df['blueHeralds'] == 0)])} times. In those games both team's win rate is {round(len(df[(df['redHeralds'] == 0) & (df['blueHeralds'] == 0) & (df['blueWins'] == 1)]) / len(df[(df['redHeralds'] == 0) & (df['blueHeralds'] == 0)]), 2) * 100}.\")\n"
      ],
      "metadata": {
        "colab": {
          "base_uri": "https://localhost:8080/",
          "height": 483
        },
        "id": "w-m46iW08y7_",
        "outputId": "54798914-9a9f-4e73-df80-98e96edc3b09"
      },
      "execution_count": 87,
      "outputs": [
        {
          "output_type": "stream",
          "name": "stdout",
          "text": [
            "Out of 9879 games, Blue Team got herald 1857 times. In those games Blue Team's win rate is 59.5.\n",
            "Out of 9879 games, Red Team got herald 1581 times. In those games Red Team's win rate is 61.23\n",
            "Out of 9879 games, neither team got herald 6441 times. In those games both team's win rate is 50.0.\n"
          ]
        },
        {
          "output_type": "display_data",
          "data": {
            "image/png": "[encoded data removed]",
            "text/plain": [
              "<Figure size 864x432 with 2 Axes>"
            ]
          },
          "metadata": {
            "needs_background": "light"
          }
        }
      ]
    },
    {
      "cell_type": "markdown",
      "source": [
        "#Elite monsters"
      ],
      "metadata": {
        "id": "tBfQ3iIhHpy2"
      }
    },
    {
      "cell_type": "code",
      "source": [
        "fig, ax = plt.subplots(figsize=(12,6),ncols=2)\n",
        "sns.countplot(x=\"blueEliteMonsters\",data=df,hue=\"whoWins\",ax=ax[0],palette=palette)\n",
        "sns.countplot(x=\"redEliteMonsters\",data=df,hue=\"whoWins\",ax=ax[1],palette=palette)\n",
        "ax[0].set_title(\"Blue Team\")\n",
        "ax[0].set_xlabel(\"Number of elite monster blue team got\")\n",
        "ax[1].set_title(\"Red Team\")\n",
        "ax[1].set_xlabel(\"Number of elite monster red team got\")\n",
        "\n",
        "plt.suptitle(\"Elite Monsters' Impact On The Game\");\n",
        "\n",
        "print(f\"Out of {len(df)} games, Blue Team got both herald and dragon for {len(df[df['blueEliteMonsters'] == 2])} times. In those games Blue Team's win rate is %{round(len(df[(df['blueEliteMonsters'] == 2) & (df['blueWins'] == 1)]) / len(df[df['blueEliteMonsters'] == 2]) * 100,2)}\")\n",
        "print(f\"Out of {len(df)} games, Red Team got both herald and dragon for {len(df[df['redEliteMonsters'] == 2])} times. In those games Red Team's win rate is %{round(len(df[(df['redEliteMonsters'] == 2) & (df['blueWins'] == 0)]) / len(df[df['redEliteMonsters'] == 2]) * 100,2)}\")"
      ],
      "metadata": {
        "colab": {
          "base_uri": "https://localhost:8080/",
          "height": 466
        },
        "id": "ySm0KKQ0-1GV",
        "outputId": "b87c5377-e169-4c31-a86a-7c4be56d31a4"
      },
      "execution_count": 90,
      "outputs": [
        {
          "output_type": "stream",
          "name": "stdout",
          "text": [
            "Out of 9879 games, Blue Team got both herald and dragon for 710 times. In those games Blue Team's win rate is %73.52\n",
            "Out of 9879 games, Red Team got both herald and dragon for 730 times. In those games Red Team's win rate is %71.37\n"
          ]
        },
        {
          "output_type": "display_data",
          "data": {
            "image/png": "[encoded data removed]",
            "text/plain": [
              "<Figure size 864x432 with 2 Axes>"
            ]
          },
          "metadata": {
            "needs_background": "light"
          }
        }
      ]
    },
    {
      "cell_type": "code",
      "source": [
        "print(f\"When both teams got no elite monsters, Blue Team's win rate is %{round(len(df[(df['redEliteMonsters'] == 0) & (df['blueEliteMonsters'] == 0) & (df['blueWins'] == 1)]) /len(df[(df['redEliteMonsters'] == 0) & (df['blueEliteMonsters'] == 0)]) * 100,2)}.\")"
      ],
      "metadata": {
        "colab": {
          "base_uri": "https://localhost:8080/"
        },
        "id": "DYcvqspmAa3S",
        "outputId": "e67cc0db-4d05-4c17-b0ff-0e7cdef615b2"
      },
      "execution_count": 91,
      "outputs": [
        {
          "output_type": "stream",
          "name": "stdout",
          "text": [
            "When both teams got no elite monsters, Blue Team's win rate is %50.44.\n"
          ]
        }
      ]
    },
    {
      "cell_type": "markdown",
      "source": [
        "#Total Minions Killed"
      ],
      "metadata": {
        "id": "UHCk1ZA1HfoV"
      }
    },
    {
      "cell_type": "code",
      "source": [
        "fig, ax = plt.subplots(figsize=(12,6),ncols=2)\n",
        "sns.histplot(x=\"blueTotalMinionsKilled\",data=df,ax=ax[0],color=\"b\",bins=20)\n",
        "sns.histplot(x=\"redTotalMinionsKilled\",data=df,ax=ax[1],color=\"r\",bins=20)\n",
        "ax[0].set_title(\"Blue Team\")\n",
        "ax[1].set_title(\"Red Team\")\n",
        "plt.suptitle(\"Total Minions Killed\");\n",
        "\n",
        "print(f\"When Blue Team wins, their average minion score is {round(df[df['blueWins']==1]['blueTotalMinionsKilled'].mean(),2)}\")\n",
        "print(f\"When Blue Team loses, their average minions score is {round(df[df['blueWins']==0]['blueTotalMinionsKilled'].mean(),2)}\")\n",
        "print(\"-\"*70)\n",
        "print(f\"When Red Team wins, their average minion score is {round(df[df['blueWins']==0]['redTotalMinionsKilled'].mean(),2)}\")\n",
        "print(f\"When Red Team loses, their average minions score is {round(df[df['blueWins']==1]['redTotalMinionsKilled'].mean(),2)}\")"
      ],
      "metadata": {
        "colab": {
          "base_uri": "https://localhost:8080/",
          "height": 518
        },
        "id": "4ylEkh9zAxq1",
        "outputId": "9e162322-efc9-4dea-e516-1387b59a14f9"
      },
      "execution_count": 101,
      "outputs": [
        {
          "output_type": "stream",
          "name": "stdout",
          "text": [
            "When Blue Team wins, their average minion score is 221.62\n",
            "When Blue Team loses, their average minions score is 211.79\n",
            "----------------------------------------------------------------------\n",
            "When Red Team wins, their average minion score is 221.99\n",
            "When Red Team loses, their average minions score is 212.69\n"
          ]
        },
        {
          "output_type": "display_data",
          "data": {
            "image/png": "[encoded data removed]",
            "text/plain": [
              "<Figure size 864x432 with 2 Axes>"
            ]
          },
          "metadata": {
            "needs_background": "light"
          }
        }
      ]
    },
    {
      "cell_type": "markdown",
      "source": [
        "#Jungle minions killed"
      ],
      "metadata": {
        "id": "YaO7--nfHavS"
      }
    },
    {
      "cell_type": "code",
      "source": [
        "fig, ax = plt.subplots(figsize=(12,6),ncols=2)\n",
        "sns.histplot(x=\"blueTotalJungleMinionsKilled\",data=df,ax=ax[0],color=\"b\",bins=25)\n",
        "sns.histplot(x=\"redTotalJungleMinionsKilled\",data=df,ax=ax[1],color=\"r\",bins=25)\n",
        "ax[0].set_title(\"Blue Team\")\n",
        "ax[1].set_title(\"Red Team\")\n",
        "plt.suptitle(\"Total Minions Killed\");\n",
        "\n",
        "print(f'When Blue Team wins, their average jungle minion score is {round(df[df[\"blueWins\"]==1][\"blueTotalJungleMinionsKilled\"].mean(),2)}')\n",
        "print(f'When Blue Team loses, their average jungle minion score is {round(df[df[\"blueWins\"]==0][\"blueTotalJungleMinionsKilled\"].mean(),2)}')\n",
        "print(\"-\"*65)\n",
        "print(f'When Red Team wins, their average jungle minion score is {round(df[df[\"blueWins\"]==0][\"redTotalJungleMinionsKilled\"].mean(),2)}')\n",
        "print(f'When Red Team loses, their average jungle minion score is {round(df[df[\"blueWins\"]==1][\"redTotalJungleMinionsKilled\"].mean(),2)}')"
      ],
      "metadata": {
        "colab": {
          "base_uri": "https://localhost:8080/",
          "height": 518
        },
        "id": "CM2GbDBHBLd0",
        "outputId": "ef3192c3-705c-43d8-c0df-5ddec5fcfe99"
      },
      "execution_count": 105,
      "outputs": [
        {
          "output_type": "stream",
          "name": "stdout",
          "text": [
            "When Blue Team wins, their average jungle minion score is 51.81\n",
            "When Blue Team loses, their average jungle minion score is 49.21\n",
            "-----------------------------------------------------------------\n",
            "When Red Team wins, their average jungle minion score is 52.42\n",
            "When Red Team loses, their average jungle minion score is 50.2\n"
          ]
        },
        {
          "output_type": "display_data",
          "data": {
            "image/png": "[encoded data removed]",
            "text/plain": [
              "<Figure size 864x432 with 2 Axes>"
            ]
          },
          "metadata": {
            "needs_background": "light"
          }
        }
      ]
    },
    {
      "cell_type": "markdown",
      "source": [
        "#Experience"
      ],
      "metadata": {
        "id": "wzsqkUf3HMqf"
      }
    },
    {
      "cell_type": "code",
      "source": [
        "fig, ax = plt.subplots(figsize=(12,6),ncols=2)\n",
        "sns.histplot(x=\"blueTotalExperience\",data=df,ax=ax[0],color=\"b\",bins=25)\n",
        "sns.histplot(x=\"redTotalExperience\",data=df,ax=ax[1],color=\"r\",bins=25)\n",
        "ax[0].set_title(\"Blue Team\")\n",
        "ax[1].set_title(\"Red Team\");\n",
        "\n",
        "print(f'When Blue Team wins, their average total experince is {round(df[df[\"blueWins\"] == 1].blueTotalExperience.mean(),2)}')\n",
        "print(f'When Blue Team loses, their average total experince is {round(df[df[\"blueWins\"] == 0].blueTotalExperience.mean(),2)}')\n",
        "print(\"-\"*70)\n",
        "print(f'When Red Team wins, their average total experince is {round(df[df[\"blueWins\"] == 0].redTotalExperience.mean(),2)}')\n",
        "print(f'When Red Team loses, their average total experince is {round(df[df[\"blueWins\"] == 1].redTotalExperience.mean(),2)}')"
      ],
      "metadata": {
        "colab": {
          "base_uri": "https://localhost:8080/",
          "height": 491
        },
        "id": "yAsuCTDQCL7K",
        "outputId": "711c8cdd-642e-4260-f4ae-a8af60e5c7cc"
      },
      "execution_count": 110,
      "outputs": [
        {
          "output_type": "stream",
          "name": "stdout",
          "text": [
            "When Blue Team wins, their average total experince is 18404.58\n",
            "When Blue Team loses, their average total experince is 17453.47\n",
            "----------------------------------------------------------------------\n",
            "When Red Team wins, their average total experince is 18425.37\n",
            "When Red Team loses, their average total experince is 17496.3\n"
          ]
        },
        {
          "output_type": "display_data",
          "data": {
            "image/png": "[encoded data removed]",
            "text/plain": [
              "<Figure size 864x432 with 2 Axes>"
            ]
          },
          "metadata": {
            "needs_background": "light"
          }
        }
      ]
    },
    {
      "cell_type": "markdown",
      "source": [
        "#Average Level"
      ],
      "metadata": {
        "id": "y0CFKvWcHHW6"
      }
    },
    {
      "cell_type": "code",
      "source": [
        "print(f'When Blue Team wins, their average level is {round(df[df[\"blueWins\"]==1].blueAvgLevel.mean(),2)}')\n",
        "print(f'When Blue Team loses, their average level is {round(df[df[\"blueWins\"]==0].blueAvgLevel.mean(),2)}')\n",
        "print(\"-\"*50)\n",
        "print(f'When Red Team wins, their average level is {round(df[df[\"blueWins\"]==0].redAvgLevel.mean(),2)}')\n",
        "print(f'When Red Team loses, their average level is {round(df[df[\"blueWins\"]==1].redAvgLevel.mean(),2)}')"
      ],
      "metadata": {
        "colab": {
          "base_uri": "https://localhost:8080/"
        },
        "id": "pwevhqaACuun",
        "outputId": "af457cae-47ba-4944-e9d4-c4a1d3ca21c8"
      },
      "execution_count": 111,
      "outputs": [
        {
          "output_type": "stream",
          "name": "stdout",
          "text": [
            "When Blue Team wins, their average level is 7.03\n",
            "When Blue Team loses, their average level is 6.81\n",
            "--------------------------------------------------\n",
            "When Red Team wins, their average level is 7.03\n",
            "When Red Team loses, their average level is 6.82\n"
          ]
        }
      ]
    },
    {
      "cell_type": "markdown",
      "source": [
        "#Wards"
      ],
      "metadata": {
        "id": "rMz3iEASHBN8"
      }
    },
    {
      "cell_type": "code",
      "source": [
        "fig, ax = plt.subplots(figsize=(12,6),ncols=2)\n",
        "sns.histplot(x=\"blueWardsPlaced\",data=df,ax=ax[0],color=\"b\",bins=25)\n",
        "sns.histplot(x=\"redWardsPlaced\",data=df,ax=ax[1],color=\"r\",bins=25)\n",
        "ax[0].set_xlim(0,120)\n",
        "ax[1].set_xlim(0,120)\n",
        "ax[0].set_title(\"Blue Team\")\n",
        "ax[1].set_title(\"Red Team\");\n",
        "\n",
        "print(f\"When Blue Team wins, their average ward score is {round(df[df['blueWins'] == 1]['blueWardsPlaced'].mean(),2)}\")\n",
        "print(f\"When Blue Team loses, their average ward score is {round(df[df['blueWins'] == 0]['blueWardsPlaced'].mean(),2)}\")\n",
        "print(\"-\"*60)\n",
        "print(f'When Red Team wins, their average ward score is {round(df[df[\"blueWins\"] == 0][\"redWardsPlaced\"].mean(),2)}0')\n",
        "print(f'When Red Team loses, their average ward score is {round(df[df[\"blueWins\"] == 1][\"redWardsPlaced\"].mean(),2)}')"
      ],
      "metadata": {
        "colab": {
          "base_uri": "https://localhost:8080/",
          "height": 543
        },
        "id": "_d5W9R6BDY3A",
        "outputId": "ab6f36de-fb7d-43d3-a6d0-213a279b7215"
      },
      "execution_count": 118,
      "outputs": [
        {
          "output_type": "stream",
          "name": "stdout",
          "text": [
            "When Blue Team wins, their average ward score is 22.29\n",
            "When Blue Team loses, their average ward score is 22.29\n",
            "------------------------------------------------------------\n",
            "When Red Team wins, their average ward score is 22.80\n",
            "When Red Team loses, their average ward score is 21.93\n",
            "------------------------------------------------------------\n",
            "When Blue Team wins, they destroyed 2.92 wards per game.\n",
            "When Red Team wins, they destroyed 2.84 wards per game.\n"
          ]
        },
        {
          "output_type": "display_data",
          "data": {
            "image/png": "[encoded data removed]",
            "text/plain": [
              "<Figure size 864x432 with 2 Axes>"
            ]
          },
          "metadata": {
            "needs_background": "light"
          }
        }
      ]
    },
    {
      "cell_type": "code",
      "source": [
        "fig, ax = plt.subplots(ncols=2, figsize=(8,4), dpi=100)\n",
        "\n",
        "sns.histplot(data=df, x=\"blueWardsDestroyed\", bins=25, ax=ax[0], color=\"b\")\n",
        "ax[0].set_xlim(0,30)\n",
        "\n",
        "sns.histplot(data=df, x=\"redWardsDestroyed\", bins=25, ax=ax[1], color=\"r\")\n",
        "ax[1].set_xlim(0,30)\n",
        "plt.tight_layout()\n",
        "\n",
        "print(f'When Blue Team wins, they destroyed {round(df[df[\"blueWins\"] == 1][\"blueWardsDestroyed\"].mean(),2)} wards per game.')\n",
        "print(f'When Red Team wins, they destroyed {round(df[df[\"blueWins\"] == 0][\"redWardsDestroyed\"].mean(),2)} wards per game.')"
      ],
      "metadata": {
        "colab": {
          "base_uri": "https://localhost:8080/",
          "height": 441
        },
        "id": "UBoptkTuD3_n",
        "outputId": "41ca3e14-4a77-42f6-8618-eb8ca097bb56"
      },
      "execution_count": 121,
      "outputs": [
        {
          "output_type": "stream",
          "name": "stdout",
          "text": [
            "When Blue Team wins, they destroyed 2.92 wards per game.\n",
            "When Red Team wins, they destroyed 2.84 wards per game.\n"
          ]
        },
        {
          "output_type": "display_data",
          "data": {
            "image/png": "[encoded data removed]",
            "text/plain": [
              "<Figure size 800x400 with 2 Axes>"
            ]
          },
          "metadata": {
            "needs_background": "light"
          }
        }
      ]
    },
    {
      "cell_type": "markdown",
      "source": [
        "#Kills"
      ],
      "metadata": {
        "id": "bPFBQwg-Gyd1"
      }
    },
    {
      "cell_type": "code",
      "source": [
        "fig, ax = plt.subplots(ncols=2, figsize=(8,4), dpi=100)\n",
        "\n",
        "sns.histplot(data=df, x=\"blueKills\", bins=25, ax=ax[0], color=\"b\")\n",
        "\n",
        "sns.histplot(data=df, x=\"redKills\", bins=25, ax=ax[1], color=\"r\")\n",
        "plt.tight_layout()"
      ],
      "metadata": {
        "colab": {
          "base_uri": "https://localhost:8080/",
          "height": 406
        },
        "id": "1QEJ_7hjE6A1",
        "outputId": "e688d9c6-4548-4c99-f895-20721c71b211"
      },
      "execution_count": 122,
      "outputs": [
        {
          "output_type": "display_data",
          "data": {
            "image/png": "[encoded data removed]",
            "text/plain": [
              "<Figure size 800x400 with 2 Axes>"
            ]
          },
          "metadata": {
            "needs_background": "light"
          }
        }
      ]
    },
    {
      "cell_type": "markdown",
      "source": [
        "#Correlation"
      ],
      "metadata": {
        "id": "3jSIHLBoGq5E"
      }
    },
    {
      "cell_type": "code",
      "source": [
        "df.corr()[\"blueWins\"].sort_values(ascending=False).drop(\"blueWins\")"
      ],
      "metadata": {
        "colab": {
          "base_uri": "https://localhost:8080/"
        },
        "id": "eZfi0PtHFVof",
        "outputId": "25f4d156-1de6-4869-9d62-5760b80815f2"
      },
      "execution_count": 136,
      "outputs": [
        {
          "output_type": "execute_result",
          "data": {
            "text/plain": [
              "blueGoldDiff                    0.511119\n",
              "blueExperienceDiff              0.489558\n",
              "blueTotalGold                   0.417213\n",
              "blueTotalExperience             0.396141\n",
              "blueAvgLevel                    0.357820\n",
              "redDeaths                       0.337358\n",
              "blueKills                       0.337358\n",
              "blueAssists                     0.276685\n",
              "blueTotalMinionsKilled          0.224909\n",
              "blueEliteMonsters               0.221944\n",
              "blueDragons                     0.213768\n",
              "blueFirstBlood                  0.201769\n",
              "blueTotalJungleMinionsKilled    0.131445\n",
              "blueTowersDestroyed             0.115566\n",
              "blueHeralds                     0.092385\n",
              "blueWardsDestroyed              0.044247\n",
              "gameId                          0.000985\n",
              "blueWardsPlaced                 0.000087\n",
              "redWardsPlaced                 -0.023671\n",
              "redWardsDestroyed              -0.055400\n",
              "redHeralds                     -0.097172\n",
              "redTowersDestroyed             -0.103696\n",
              "redTotalJungleMinionsKilled    -0.110994\n",
              "redFirstBlood                  -0.201769\n",
              "redDragons                     -0.209516\n",
              "redTotalMinionsKilled          -0.212171\n",
              "redEliteMonsters               -0.221551\n",
              "redAssists                     -0.271047\n",
              "blueDeaths                     -0.339297\n",
              "redKills                       -0.339297\n",
              "redAvgLevel                    -0.352127\n",
              "redTotalExperience             -0.387588\n",
              "redTotalGold                   -0.411396\n",
              "redExperienceDiff              -0.489558\n",
              "redGoldDiff                    -0.511119\n",
              "Name: blueWins, dtype: float64"
            ]
          },
          "metadata": {},
          "execution_count": 136
        }
      ]
    },
    {
      "cell_type": "code",
      "source": [
        "plt.figure(figsize=(12,8), dpi=100)\n",
        "sns.barplot(x=df.corr()[\"blueWins\"].sort_values(ascending=False).drop(\"blueWins\").index, y=df.corr()[\"blueWins\"].sort_values(ascending=False).drop(\"blueWins\").values)\n",
        "plt.xticks(rotation=90);"
      ],
      "metadata": {
        "colab": {
          "base_uri": "https://localhost:8080/",
          "height": 846
        },
        "id": "rrs_WxNRFYiX",
        "outputId": "6a49ad9b-a05c-433c-b6a1-4d9107ffdeb0"
      },
      "execution_count": 139,
      "outputs": [
        {
          "output_type": "display_data",
          "data": {
            "image/png": "[encoded data removed]",
            "text/plain": [
              "<Figure size 1200x800 with 1 Axes>"
            ]
          },
          "metadata": {
            "needs_background": "light"
          }
        }
      ]
    }
  ]
}